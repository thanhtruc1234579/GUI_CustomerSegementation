{
 "cells": [
  {
   "cell_type": "code",
   "execution_count": null,
   "id": "9fd7d583-14d6-4f6c-8b96-bc6c32128013",
   "metadata": {
    "colab": {
     "base_uri": "https://localhost:8080/",
     "height": 1000
    },
    "executionInfo": {
     "elapsed": 89264,
     "status": "ok",
     "timestamp": 1743169704429,
     "user": {
      "displayName": "Đức Nguyễn Mạnh",
      "userId": "12873569073918178029"
     },
     "user_tz": -420
    },
    "id": "9fd7d583-14d6-4f6c-8b96-bc6c32128013",
    "outputId": "ae43faa0-7a58-473f-cee5-110941efaad4"
   },
   "outputs": [],
   "source": [
    "from pyspark.sql import SparkSession\n",
    "from pyspark.ml.feature import VectorAssembler, StandardScaler\n",
    "from pyspark.ml.clustering import KMeans\n",
    "from pyspark.sql.functions import col, to_date, datediff, current_date, count, avg, sum, max\n",
    "from pyspark.sql.types import *\n",
    "import matplotlib.pyplot as plt\n",
    "import numpy as np\n",
    "import os\n",
    "os.environ[\"JAVA_HOME\"] = r\"C:\\Program Files\\Java\\jdk-11.0.24\"\n",
    "\n",
    "# Initialize Spark session\n",
    "spark = SparkSession.builder \\\n",
    "    .appName(\"RFM Customer Segmentation\") \\\n",
    "    .config(\"spark.driver.memory\", \"4g\") \\\n",
    "    .getOrCreate()\n",
    "\n",
    "# Load and prepare data\n",
    "transactions = spark.read.csv('D:/tatu/Project/Project 1/product_recommendation-main/data/Processed_transactions.csv', header=True, inferSchema=True)\n",
    "products = spark.read.csv('D:/tatu/Project/Project 1/product_recommendation-main/data/Products_with_Categories.csv', header=True, inferSchema=True)\n",
    "\n",
    "# Calculate RFM metrics\n",
    "transactions = transactions.withColumn('Date', to_date(col('Date')))\n",
    "\n",
    "rfm = transactions.groupBy('Member_number').agg(\n",
    "    datediff(current_date(), max('Date')).alias('Recency'),\n",
    "    count('*').alias('Frequency'),\n",
    "    sum('total_spent').cast(DoubleType()).alias('Monetary')\n",
    ")\n",
    "\n",
    "# Prepare features for clustering\n",
    "assembler = VectorAssembler(\n",
    "    inputCols=['Recency', 'Frequency', 'Monetary'],\n",
    "    outputCol='features'\n",
    ")\n",
    "rfm_vector = assembler.transform(rfm)\n",
    "\n",
    "# Scale the features\n",
    "scaler = StandardScaler(\n",
    "    inputCol='features',\n",
    "    outputCol='scaledFeatures',\n",
    "    withStd=True,\n",
    "    withMean=True\n",
    ")\n",
    "scaler_model = scaler.fit(rfm_vector)\n",
    "rfm_scaled = scaler_model.transform(rfm_vector)\n",
    "\n",
    "# Find optimal K using Sum of Squared Errors\n",
    "cost_values = []\n",
    "K = range(2, 11)\n",
    "\n",
    "for k in K:\n",
    "    kmeans = KMeans(featuresCol='scaledFeatures', k=k)\n",
    "    model = kmeans.fit(rfm_scaled)\n",
    "    # Calculate SSE\n",
    "    cost = model.summary.trainingCost\n",
    "    cost_values.append(cost)\n",
    "    print(f\"k={k}, cost={cost}\")\n",
    "\n",
    "# Plot elbow curve\n",
    "plt.figure(figsize=(10, 6))\n",
    "plt.plot(np.array(K), np.array(cost_values), 'bx-')\n",
    "plt.xlabel('k')\n",
    "plt.ylabel('Sum of Squared Errors')\n",
    "plt.title('Elbow Method For Optimal k')\n",
    "plt.show()\n",
    "\n",
    "# Apply K-means with k=5\n",
    "kmeans = KMeans(featuresCol='scaledFeatures', k=5)\n",
    "model = kmeans.fit(rfm_scaled)\n",
    "predictions = model.transform(rfm_scaled)\n",
    "\n",
    "# Analyze clusters\n",
    "cluster_sizes = predictions.groupBy('prediction').count().orderBy('prediction')\n",
    "print(\"\\nCluster Sizes:\")\n",
    "cluster_sizes.show()\n",
    "\n",
    "# Calculate cluster statistics\n",
    "cluster_stats = predictions.groupBy('prediction').agg(\n",
    "    avg('Recency').alias('avg_recency'),\n",
    "    avg('Frequency').alias('avg_frequency'),\n",
    "    avg('Monetary').alias('avg_monetary')\n",
    ").orderBy('prediction')\n",
    "\n",
    "print(\"\\nCluster Statistics:\")\n",
    "cluster_stats.show()\n",
    "\n",
    "# Save results\n",
    "predictions.select('Member_number', 'Recency', 'Frequency', 'Monetary', 'prediction') \\\n",
    "    .write.csv('customer_segments', header=True, mode='overwrite')\n",
    "\n",
    "# Visualization\n",
    "pdf = predictions.select('Recency', 'Frequency', 'Monetary', 'prediction').toPandas()\n",
    "\n",
    "fig = plt.figure(figsize=(10, 7))\n",
    "ax = fig.add_subplot(111, projection='3d')\n",
    "\n",
    "scatter = ax.scatter(pdf['Recency'],\n",
    "                    pdf['Frequency'],\n",
    "                    pdf['Monetary'],\n",
    "                    c=pdf['prediction'],\n",
    "                    cmap='viridis')\n",
    "\n",
    "ax.set_xlabel('Recency')\n",
    "ax.set_ylabel('Frequency')\n",
    "ax.set_zlabel('Monetary')\n",
    "plt.colorbar(scatter)\n",
    "plt.title('Customer Segments')\n",
    "plt.show()\n",
    "\n",
    "# Stop Spark session\n",
    "spark.stop()"
   ]
  },
  {
   "cell_type": "code",
   "execution_count": 2,
   "id": "5073348a-ba47-4e27-b71b-6c5b2688e877",
   "metadata": {
    "id": "5073348a-ba47-4e27-b71b-6c5b2688e877"
   },
   "outputs": [
    {
     "name": "stdout",
     "output_type": "stream",
     "text": [
      "None\n"
     ]
    }
   ],
   "source": [
    "import os\n",
    "print(os.environ.get(\"JAVA_HOME\"))\n"
   ]
  }
 ],
 "metadata": {
  "colab": {
   "provenance": []
  },
  "kernelspec": {
   "display_name": "Python 3",
   "language": "python",
   "name": "python3"
  },
  "language_info": {
   "codemirror_mode": {
    "name": "ipython",
    "version": 3
   },
   "file_extension": ".py",
   "mimetype": "text/x-python",
   "name": "python",
   "nbconvert_exporter": "python",
   "pygments_lexer": "ipython3",
   "version": "3.10.11"
  }
 },
 "nbformat": 4,
 "nbformat_minor": 5
}

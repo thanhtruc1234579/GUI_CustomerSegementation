{
 "cells": [
  {
   "cell_type": "code",
   "execution_count": 10,
   "id": "9497dcb4",
   "metadata": {},
   "outputs": [
    {
     "name": "stderr",
     "output_type": "stream",
     "text": [
      "c:\\Users\\user\\AppData\\Local\\Programs\\Python\\Python310\\lib\\site-packages\\sklearn\\base.py:493: UserWarning: X does not have valid feature names, but KMeans was fitted with feature names\n",
      "  warnings.warn(\n"
     ]
    }
   ],
   "source": [
    "import pandas as pd\n",
    "import joblib\n",
    "from sklearn.preprocessing import StandardScaler\n",
    "\n",
    "# Load dữ liệu và mô hình\n",
    "df = pd.read_csv(\"model/hierarchical_clustering_model.csv\")\n",
    "model = joblib.load(\"model/kmeans_model.pkl\")\n",
    "scaler = StandardScaler()\n",
    "scaled = scaler.fit_transform(df[['Recency', 'Frequency', 'Monetary']])\n",
    "\n",
    "# Gán cluster\n",
    "df['cluster'] = model.predict(scaled)\n",
    "\n",
    "# Lưu lại file đã gán cụm\n",
    "df.to_csv(\"model/rfm_cluster.csv\", index=False)\n"
   ]
  },
  {
   "cell_type": "code",
   "execution_count": null,
   "id": "54737e69",
   "metadata": {},
   "outputs": [],
   "source": [
    "\n"
   ]
  }
 ],
 "metadata": {
  "kernelspec": {
   "display_name": "Python 3",
   "language": "python",
   "name": "python3"
  },
  "language_info": {
   "codemirror_mode": {
    "name": "ipython",
    "version": 3
   },
   "file_extension": ".py",
   "mimetype": "text/x-python",
   "name": "python",
   "nbconvert_exporter": "python",
   "pygments_lexer": "ipython3",
   "version": "3.10.11"
  }
 },
 "nbformat": 4,
 "nbformat_minor": 5
}
